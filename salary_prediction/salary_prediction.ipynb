{
 "cells": [
  {
   "cell_type": "markdown",
   "metadata": {
    "execution": {
     "iopub.execute_input": "2023-01-18T07:29:02.357611Z",
     "iopub.status.busy": "2023-01-18T07:29:02.357197Z",
     "iopub.status.idle": "2023-01-18T07:29:04.738074Z",
     "shell.execute_reply": "2023-01-18T07:29:04.737132Z",
     "shell.execute_reply.started": "2023-01-18T07:29:02.357531Z"
    }
   },
   "source": [
    "# Предсказание заработной платы по резюме"
   ]
  },
  {
   "cell_type": "markdown",
   "metadata": {},
   "source": [
    "**Цель:** построить модель, которая может предсказывать зарплату по данным в резюме."
   ]
  },
  {
   "cell_type": "code",
   "execution_count": 1,
   "metadata": {},
   "outputs": [],
   "source": [
    "import numpy as np\n",
    "import pandas as pd\n",
    "import os\n",
    "import re\n",
    "import matplotlib.pyplot as plt\n",
    "\n",
    "import torch\n",
    "import torch.utils.data as Data\n",
    "import torch.nn as nn \n",
    "import transformers\n",
    "\n",
    "from torch.utils.data import DataLoader\n",
    "from torch.utils.data import TensorDataset\n",
    "\n",
    "from sklearn.model_selection import train_test_split\n",
    "from sklearn.linear_model import LinearRegression\n",
    "from sklearn.metrics import mean_squared_error\n",
    "\n",
    "from category_encoders.count import CountEncoder \n",
    "from category_encoders.one_hot import OneHotEncoder\n",
    "from category_encoders.ordinal import OrdinalEncoder\n",
    "\n",
    "from tqdm.notebook import tqdm"
   ]
  },
  {
   "cell_type": "markdown",
   "metadata": {},
   "source": [
    "**Описание названий столбцов** \n",
    "- Id - идентификацонный номер\n",
    "- Title - название вакансии\n",
    "- FullDescription - полное описание\n",
    "- LocationRaw - местоположение\n",
    "- LocationNormalized - нормализованное метсоположение\n",
    "- ContractType - тип контракта\n",
    "- ContractTime - время контракта (тип найма)\n",
    "- Company - наименования компании\n",
    "- Category - категория\n",
    "- SalaryRaw - Заработная плата\n",
    "- SalaryNormalized - Заработная плата нормализованная \n",
    "- SourceName - имя источника"
   ]
  },
  {
   "cell_type": "code",
   "execution_count": 2,
   "metadata": {
    "execution": {
     "iopub.execute_input": "2023-01-18T07:29:04.740562Z",
     "iopub.status.busy": "2023-01-18T07:29:04.739948Z",
     "iopub.status.idle": "2023-01-18T07:29:04.745344Z",
     "shell.execute_reply": "2023-01-18T07:29:04.744404Z",
     "shell.execute_reply.started": "2023-01-18T07:29:04.740524Z"
    }
   },
   "outputs": [],
   "source": [
    "RANDOM_STATE = 13"
   ]
  },
  {
   "cell_type": "code",
   "execution_count": 3,
   "metadata": {
    "execution": {
     "iopub.execute_input": "2023-01-18T07:29:04.747717Z",
     "iopub.status.busy": "2023-01-18T07:29:04.746706Z",
     "iopub.status.idle": "2023-01-18T07:29:04.756515Z",
     "shell.execute_reply": "2023-01-18T07:29:04.755427Z",
     "shell.execute_reply.started": "2023-01-18T07:29:04.747679Z"
    }
   },
   "outputs": [],
   "source": [
    "#менсяю тип занятости\n",
    "def type_time(x):\n",
    "    res = 'unknown'\n",
    "    if x == 'full_time':\n",
    "        res = 'permanent'\n",
    "    elif x == 'part_time':\n",
    "        res = 'contract'\n",
    "    return res"
   ]
  },
  {
   "cell_type": "code",
   "execution_count": 4,
   "metadata": {
    "execution": {
     "iopub.execute_input": "2023-01-18T07:29:04.760141Z",
     "iopub.status.busy": "2023-01-18T07:29:04.758285Z",
     "iopub.status.idle": "2023-01-18T07:29:04.767638Z",
     "shell.execute_reply": "2023-01-18T07:29:04.766724Z",
     "shell.execute_reply.started": "2023-01-18T07:29:04.760105Z"
    }
   },
   "outputs": [],
   "source": [
    "pd.set_option('display.max_rows', 30)\n",
    "pd.set_option('display.max_columns', 50)\n",
    "pd.set_option('display.max_colwidth', 1000)\n",
    "pd.set_option('display.precision', 3)\n",
    "np.set_printoptions(precision=3, suppress=True)\n"
   ]
  },
  {
   "cell_type": "code",
   "execution_count": 5,
   "metadata": {
    "execution": {
     "iopub.execute_input": "2023-01-18T07:29:04.769593Z",
     "iopub.status.busy": "2023-01-18T07:29:04.768773Z",
     "iopub.status.idle": "2023-01-18T07:29:14.160709Z",
     "shell.execute_reply": "2023-01-18T07:29:14.159793Z",
     "shell.execute_reply.started": "2023-01-18T07:29:04.769566Z"
    }
   },
   "outputs": [
    {
     "name": "stdout",
     "output_type": "stream",
     "text": [
      "uncorrect path\n"
     ]
    }
   ],
   "source": [
    "path_colab = '/content/sample_data/train_rev1.csv'\n",
    "path_local = 'train_rev1.csv'\n",
    "path_kaggle = '/kaggle/input/df-salary/train_rev1.csv'\n",
    "\n",
    "if os.path.exists(path_local):\n",
    "    df = pd.read_csv(path_local, index_col = 'Id')\n",
    "elif os.path.exists(path_colab):\n",
    "    df = pd.read_csv(path_colab, index_col = 'Id')\n",
    "elif os.path.exists(path_kaggle):\n",
    "    df = pd.read_csv(path_kaggle, index_col = 'Id')\n",
    "else:\n",
    "    print('uncorrect path')\n"
   ]
  },
  {
   "cell_type": "code",
   "execution_count": null,
   "metadata": {
    "execution": {
     "iopub.execute_input": "2023-01-18T07:29:14.165456Z",
     "iopub.status.busy": "2023-01-18T07:29:14.162186Z",
     "iopub.status.idle": "2023-01-18T07:29:14.200965Z",
     "shell.execute_reply": "2023-01-18T07:29:14.199928Z",
     "shell.execute_reply.started": "2023-01-18T07:29:14.165410Z"
    }
   },
   "outputs": [],
   "source": [
    "#проверим part_time\n",
    "df[['ContractType', 'ContractTime']].query('ContractType == \"part_time\"').head()"
   ]
  },
  {
   "cell_type": "code",
   "execution_count": null,
   "metadata": {
    "execution": {
     "iopub.execute_input": "2023-01-18T07:29:14.202473Z",
     "iopub.status.busy": "2023-01-18T07:29:14.202141Z",
     "iopub.status.idle": "2023-01-18T07:29:14.351451Z",
     "shell.execute_reply": "2023-01-18T07:29:14.350550Z",
     "shell.execute_reply.started": "2023-01-18T07:29:14.202439Z"
    },
    "scrolled": true
   },
   "outputs": [],
   "source": [
    "#общая инфо\n",
    "df.info()"
   ]
  },
  {
   "cell_type": "code",
   "execution_count": null,
   "metadata": {
    "execution": {
     "iopub.execute_input": "2023-01-18T07:29:14.353606Z",
     "iopub.status.busy": "2023-01-18T07:29:14.352740Z",
     "iopub.status.idle": "2023-01-18T07:29:14.422403Z",
     "shell.execute_reply": "2023-01-18T07:29:14.421538Z",
     "shell.execute_reply.started": "2023-01-18T07:29:14.353569Z"
    }
   },
   "outputs": [],
   "source": [
    "#заполним пропуски в ContractTime\n",
    "df.ContractTime = df.ContractTime.fillna(df.ContractType.transform(type_time))"
   ]
  },
  {
   "cell_type": "code",
   "execution_count": null,
   "metadata": {
    "execution": {
     "iopub.execute_input": "2023-01-18T07:29:14.425734Z",
     "iopub.status.busy": "2023-01-18T07:29:14.425480Z",
     "iopub.status.idle": "2023-01-18T07:29:14.462643Z",
     "shell.execute_reply": "2023-01-18T07:29:14.461703Z",
     "shell.execute_reply.started": "2023-01-18T07:29:14.425710Z"
    }
   },
   "outputs": [],
   "source": [
    "#удалим лишнии столбцы\n",
    "data = df.drop(['LocationRaw', 'SalaryRaw', 'ContractType', 'SourceName'], axis=1)\n",
    "data.head()"
   ]
  },
  {
   "cell_type": "code",
   "execution_count": null,
   "metadata": {
    "execution": {
     "iopub.execute_input": "2023-01-18T07:29:14.466966Z",
     "iopub.status.busy": "2023-01-18T07:29:14.466680Z",
     "iopub.status.idle": "2023-01-18T07:29:14.529742Z",
     "shell.execute_reply": "2023-01-18T07:29:14.528781Z",
     "shell.execute_reply.started": "2023-01-18T07:29:14.466941Z"
    },
    "scrolled": true
   },
   "outputs": [],
   "source": [
    "#Количесвто уникальных значений Category, Company, LocationNormalized\n",
    "len(data.Category.unique()), len(data.Company.unique()), len(data.LocationNormalized.unique())"
   ]
  },
  {
   "cell_type": "code",
   "execution_count": null,
   "metadata": {
    "execution": {
     "iopub.execute_input": "2023-01-18T07:29:14.531912Z",
     "iopub.status.busy": "2023-01-18T07:29:14.531028Z",
     "iopub.status.idle": "2023-01-18T07:29:14.749519Z",
     "shell.execute_reply": "2023-01-18T07:29:14.748563Z",
     "shell.execute_reply.started": "2023-01-18T07:29:14.531860Z"
    }
   },
   "outputs": [],
   "source": [
    "#удилил все пропуски\n",
    "data = data.dropna()\n",
    "data.info()"
   ]
  },
  {
   "cell_type": "code",
   "execution_count": null,
   "metadata": {
    "execution": {
     "iopub.execute_input": "2023-01-18T07:29:14.751638Z",
     "iopub.status.busy": "2023-01-18T07:29:14.750805Z",
     "iopub.status.idle": "2023-01-18T07:29:14.815430Z",
     "shell.execute_reply": "2023-01-18T07:29:14.814314Z",
     "shell.execute_reply.started": "2023-01-18T07:29:14.751598Z"
    }
   },
   "outputs": [],
   "source": [
    "#уменьшу выборку\n",
    "df_bert = data.copy().sample(50000, random_state = RANDOM_STATE)\n",
    "df_bert.shape"
   ]
  },
  {
   "cell_type": "code",
   "execution_count": null,
   "metadata": {
    "execution": {
     "iopub.execute_input": "2023-01-18T07:29:14.817664Z",
     "iopub.status.busy": "2023-01-18T07:29:14.817225Z",
     "iopub.status.idle": "2023-01-18T07:29:18.733284Z",
     "shell.execute_reply": "2023-01-18T07:29:18.732221Z",
     "shell.execute_reply.started": "2023-01-18T07:29:14.817617Z"
    }
   },
   "outputs": [],
   "source": [
    "#оставляем в тесктсе только буквы и в нижнем регистре\n",
    "df_bert.FullDescription = df_bert.FullDescription.apply(\n",
    "    lambda x: ' '.join(re.sub(r'[^a-zA-Z\\']', ' ', x).split()).lower())\n",
    "#проверим наличие пустых строк\n",
    "display(df_bert.loc[df_bert.FullDescription == ''])"
   ]
  },
  {
   "cell_type": "markdown",
   "metadata": {},
   "source": [
    "*Подготовка категориальных столбцов к дальнейше обработке*"
   ]
  },
  {
   "cell_type": "code",
   "execution_count": null,
   "metadata": {
    "execution": {
     "iopub.execute_input": "2023-01-18T07:29:18.735245Z",
     "iopub.status.busy": "2023-01-18T07:29:18.734785Z",
     "iopub.status.idle": "2023-01-18T07:29:18.757353Z",
     "shell.execute_reply": "2023-01-18T07:29:18.756535Z",
     "shell.execute_reply.started": "2023-01-18T07:29:18.735206Z"
    }
   },
   "outputs": [],
   "source": [
    "mask_cat = ['LocationNormalized', 'ContractTime', 'Company', 'Category']\n",
    "df_cat = df_bert[mask_cat].reindex(columns=['ContractTime', 'LocationNormalized', 'Company', 'Category'])\n",
    "df_cat.tail()"
   ]
  },
  {
   "cell_type": "markdown",
   "metadata": {},
   "source": [
    "**BERT encoding**"
   ]
  },
  {
   "cell_type": "code",
   "execution_count": null,
   "metadata": {
    "execution": {
     "iopub.execute_input": "2023-01-18T07:29:18.759088Z",
     "iopub.status.busy": "2023-01-18T07:29:18.758523Z",
     "iopub.status.idle": "2023-01-18T07:29:18.767795Z",
     "shell.execute_reply": "2023-01-18T07:29:18.766914Z",
     "shell.execute_reply.started": "2023-01-18T07:29:18.759053Z"
    }
   },
   "outputs": [],
   "source": [
    "def get_vectors(model, tokenizer, data, device, max_length=None):\n",
    "    batch_size = 100\n",
    "    tokenized = tokenizer(data, \n",
    "                          padding='max_length',\n",
    "                          add_special_tokens=True,\n",
    "                          truncation=True,\n",
    "                          max_length=max_length,\n",
    "                          return_tensors=\"pt\")\n",
    "    \n",
    "    mask = tokenized['attention_mask']\n",
    "    input_ids = tokenized['input_ids']\n",
    "    \n",
    "    embeddings = []\n",
    "    for i in tqdm(range(input_ids.shape[0] // batch_size)):\n",
    "        batch = input_ids[batch_size * i : batch_size * (i + 1)].clone().detach().to(device)  \n",
    "        attention_mask_batch = mask[batch_size * i : batch_size * (i + 1)].clone().detach().to(device) \n",
    "        \n",
    "        with torch.no_grad():\n",
    "            batch_embeddings = model(batch, attention_mask=attention_mask_batch)\n",
    "        \n",
    "        embeddings.append(batch_embeddings[0][:,0,:].detach().cpu().numpy())\n",
    "        \n",
    "        del batch\n",
    "        del attention_mask_batch\n",
    "        del batch_embeddings\n",
    "        \n",
    "    return embeddings"
   ]
  },
  {
   "cell_type": "code",
   "execution_count": null,
   "metadata": {
    "execution": {
     "iopub.execute_input": "2023-01-18T07:29:18.771317Z",
     "iopub.status.busy": "2023-01-18T07:29:18.771017Z",
     "iopub.status.idle": "2023-01-18T07:29:37.778408Z",
     "shell.execute_reply": "2023-01-18T07:29:37.777286Z",
     "shell.execute_reply.started": "2023-01-18T07:29:18.771292Z"
    }
   },
   "outputs": [],
   "source": [
    "#получаем веса для берта\n",
    "tokenizer = transformers.ConvBertTokenizer.from_pretrained('YituTech/conv-bert-base')\n",
    "model = transformers.ConvBertModel.from_pretrained('YituTech/conv-bert-base')"
   ]
  },
  {
   "cell_type": "code",
   "execution_count": null,
   "metadata": {
    "execution": {
     "iopub.execute_input": "2023-01-18T07:29:37.781087Z",
     "iopub.status.busy": "2023-01-18T07:29:37.780095Z",
     "iopub.status.idle": "2023-01-18T07:29:40.903953Z",
     "shell.execute_reply": "2023-01-18T07:29:40.901939Z",
     "shell.execute_reply.started": "2023-01-18T07:29:37.781043Z"
    }
   },
   "outputs": [],
   "source": [
    "#настройка gpu или cpu\n",
    "device = 'cuda' if torch.cuda.is_available() else 'cpu'\n",
    "model.to(device)\n",
    "print(f'Используется device - {device}')"
   ]
  },
  {
   "cell_type": "code",
   "execution_count": null,
   "metadata": {
    "execution": {
     "iopub.execute_input": "2023-01-18T07:29:40.905804Z",
     "iopub.status.busy": "2023-01-18T07:29:40.905310Z",
     "iopub.status.idle": "2023-01-18T07:51:53.307152Z",
     "shell.execute_reply": "2023-01-18T07:51:53.306062Z",
     "shell.execute_reply.started": "2023-01-18T07:29:40.905766Z"
    }
   },
   "outputs": [],
   "source": [
    "%%time\n",
    "features_description = get_vectors(model, tokenizer, list(df_bert.FullDescription.values), device)"
   ]
  },
  {
   "cell_type": "code",
   "execution_count": null,
   "metadata": {
    "execution": {
     "iopub.execute_input": "2023-01-18T07:51:53.309402Z",
     "iopub.status.busy": "2023-01-18T07:51:53.308791Z",
     "iopub.status.idle": "2023-01-18T07:55:16.310042Z",
     "shell.execute_reply": "2023-01-18T07:55:16.309021Z",
     "shell.execute_reply.started": "2023-01-18T07:51:53.309364Z"
    },
    "scrolled": true
   },
   "outputs": [],
   "source": [
    "%%time\n",
    "features_title = get_vectors(model, tokenizer, list(df_bert.Title.values), device, 100)"
   ]
  },
  {
   "cell_type": "code",
   "execution_count": null,
   "metadata": {
    "execution": {
     "iopub.execute_input": "2023-01-18T07:55:16.312189Z",
     "iopub.status.busy": "2023-01-18T07:55:16.311567Z",
     "iopub.status.idle": "2023-01-18T07:55:19.482808Z",
     "shell.execute_reply": "2023-01-18T07:55:19.481821Z",
     "shell.execute_reply.started": "2023-01-18T07:55:16.312149Z"
    }
   },
   "outputs": [],
   "source": [
    "#соединяем фичи и забираем таргет\n",
    "features = np.concatenate(features_description)\n",
    "features = np.hstack([features, np.concatenate(features_title)])\n",
    "features = np.hstack([features, df_cat.values])\n",
    "target = df_bert.SalaryNormalized.values\n",
    "features.shape"
   ]
  },
  {
   "cell_type": "code",
   "execution_count": null,
   "metadata": {
    "execution": {
     "iopub.execute_input": "2023-01-18T07:55:19.484794Z",
     "iopub.status.busy": "2023-01-18T07:55:19.484380Z",
     "iopub.status.idle": "2023-01-18T07:55:24.487948Z",
     "shell.execute_reply": "2023-01-18T07:55:24.486981Z",
     "shell.execute_reply.started": "2023-01-18T07:55:19.484757Z"
    }
   },
   "outputs": [],
   "source": [
    "#сохраняем фичи и таргет\n",
    "with open('/kaggle/working/features', 'wb') as f, open('/kaggle/working/target', 'wb') as f2:\n",
    "    np.save(f, features)\n",
    "    np.save(f2, target)\n"
   ]
  },
  {
   "cell_type": "code",
   "execution_count": null,
   "metadata": {
    "execution": {
     "iopub.execute_input": "2023-01-18T07:55:24.489957Z",
     "iopub.status.busy": "2023-01-18T07:55:24.489563Z",
     "iopub.status.idle": "2023-01-18T07:55:25.726112Z",
     "shell.execute_reply": "2023-01-18T07:55:25.720680Z",
     "shell.execute_reply.started": "2023-01-18T07:55:24.489922Z"
    }
   },
   "outputs": [],
   "source": [
    "#Делим выборку\n",
    "X_train, X_test, y_train, y_test = train_test_split(\n",
    "    features, \n",
    "    target, \n",
    "    test_size=.1, \n",
    "    random_state=RANDOM_STATE)"
   ]
  },
  {
   "cell_type": "code",
   "execution_count": null,
   "metadata": {
    "execution": {
     "iopub.execute_input": "2023-01-18T07:55:25.733374Z",
     "iopub.status.busy": "2023-01-18T07:55:25.731025Z",
     "iopub.status.idle": "2023-01-18T07:55:25.808702Z",
     "shell.execute_reply": "2023-01-18T07:55:25.807789Z",
     "shell.execute_reply.started": "2023-01-18T07:55:25.733319Z"
    }
   },
   "outputs": [],
   "source": [
    "#энкодинг категориальных фичей\n",
    "ce_ordinal_encoder = OrdinalEncoder()\n",
    "ce_ordinal_encoder.fit(X_train[:, -4])\n",
    "X_train_ordinal = ce_ordinal_encoder.transform(X_train[:, -4])\n",
    "X_test_ordinal = ce_ordinal_encoder.transform(X_test[:, -4])"
   ]
  },
  {
   "cell_type": "code",
   "execution_count": null,
   "metadata": {
    "execution": {
     "iopub.execute_input": "2023-01-18T07:55:25.810608Z",
     "iopub.status.busy": "2023-01-18T07:55:25.810247Z",
     "iopub.status.idle": "2023-01-18T07:55:26.054136Z",
     "shell.execute_reply": "2023-01-18T07:55:26.053048Z",
     "shell.execute_reply.started": "2023-01-18T07:55:25.810570Z"
    },
    "scrolled": true
   },
   "outputs": [],
   "source": [
    "#энкодинг категориальных фичей\n",
    "ce_count_encoder = CountEncoder(normalize=True)\n",
    "ce_count_encoder.fit(X_train[:, -3:])\n",
    "X_train_encoder = ce_count_encoder.transform(X_train[:, -3:])\n",
    "X_test_encoder = ce_count_encoder.transform(X_test[:, -3:])"
   ]
  },
  {
   "cell_type": "code",
   "execution_count": null,
   "metadata": {
    "execution": {
     "iopub.execute_input": "2023-01-18T07:55:26.056082Z",
     "iopub.status.busy": "2023-01-18T07:55:26.055697Z",
     "iopub.status.idle": "2023-01-18T07:55:32.523196Z",
     "shell.execute_reply": "2023-01-18T07:55:32.522194Z",
     "shell.execute_reply.started": "2023-01-18T07:55:26.056044Z"
    },
    "scrolled": true
   },
   "outputs": [],
   "source": [
    "#приседееняем котегориальные фичи\n",
    "X_train = np.hstack([X_train[:, :-4], X_train_ordinal])\n",
    "X_test = np.hstack([X_test[:, :-4], X_test_ordinal])\n",
    "X_train = np.hstack([X_train, X_train_encoder]).astype('float32')\n",
    "X_test = np.hstack([X_test, X_test_encoder]).astype('float32')\n",
    "X_train.shape"
   ]
  },
  {
   "cell_type": "markdown",
   "metadata": {},
   "source": [
    "**Проверка на линейной моделе**"
   ]
  },
  {
   "cell_type": "code",
   "execution_count": null,
   "metadata": {
    "execution": {
     "iopub.execute_input": "2023-01-18T07:55:32.525289Z",
     "iopub.status.busy": "2023-01-18T07:55:32.524900Z",
     "iopub.status.idle": "2023-01-18T07:55:37.664751Z",
     "shell.execute_reply": "2023-01-18T07:55:37.663372Z",
     "shell.execute_reply.started": "2023-01-18T07:55:32.525253Z"
    }
   },
   "outputs": [],
   "source": [
    "model_lr_bert = LinearRegression().fit(X_train, y_train)\n",
    "mean_squared_error(y_test, model_lr_bert.predict(X_test), squared=False)"
   ]
  },
  {
   "cell_type": "markdown",
   "metadata": {},
   "source": [
    "**НЕЙРОСЕТЬ для предсказание з/п**"
   ]
  },
  {
   "cell_type": "code",
   "execution_count": null,
   "metadata": {
    "execution": {
     "iopub.execute_input": "2023-01-18T07:55:37.672134Z",
     "iopub.status.busy": "2023-01-18T07:55:37.670975Z",
     "iopub.status.idle": "2023-01-18T07:55:37.688136Z",
     "shell.execute_reply": "2023-01-18T07:55:37.686034Z",
     "shell.execute_reply.started": "2023-01-18T07:55:37.672093Z"
    }
   },
   "outputs": [],
   "source": [
    "class Regression_Net(torch.nn.Module):\n",
    "    \n",
    "    def __init__ (self, input_size, hidden_size, out_size):\n",
    "        super(Regression_Net, self).__init__()\n",
    "        self.drop_input = nn.Dropout(0.1)\n",
    "        self.input = nn.BatchNorm1d(input_size, eps=1e-02)\n",
    "        self.relu = nn.ReLU()\n",
    "        self.hidden_dense = nn.Linear(input_size, hidden_size)\n",
    "        self.relu_out = nn.ReLU()\n",
    "        self.drop_out = nn.Dropout(0.1)\n",
    "        self.output = nn.Linear(hidden_size, out_size)\n",
    "       \n",
    "    def forward(self, x):\n",
    "        out = self.drop_input(self.input(x))\n",
    "        hidden_dense = self.relu(self.hidden_dense(out))\n",
    "        output = self.relu_out(self.drop_out(self.output(hidden_dense)))\n",
    "        \n",
    "        return output"
   ]
  },
  {
   "cell_type": "code",
   "execution_count": null,
   "metadata": {
    "execution": {
     "iopub.execute_input": "2023-01-18T07:55:37.698969Z",
     "iopub.status.busy": "2023-01-18T07:55:37.698600Z",
     "iopub.status.idle": "2023-01-18T07:55:37.715135Z",
     "shell.execute_reply": "2023-01-18T07:55:37.713503Z",
     "shell.execute_reply.started": "2023-01-18T07:55:37.698932Z"
    }
   },
   "outputs": [],
   "source": [
    "def train_model(model, device, train_loader, criterion, optimizer):\n",
    "    model.train()\n",
    "    y_true = []\n",
    "    y_pred = []\n",
    "    history= []\n",
    "    \n",
    "    for x_batch, y_batch in tqdm(train_loader):\n",
    "        \n",
    "        train_label = y_batch.to(device)\n",
    "        input_id = x_batch.squeeze(1).to(device)\n",
    "        \n",
    "        model.zero_grad()\n",
    "        output = model(input_id).squeeze(1)\n",
    "        \n",
    "        loss = criterion(output, train_label.to(torch.float32))\n",
    "        history.append(loss.item())\n",
    "        \n",
    "        optimizer.zero_grad()\n",
    "        loss.backward()\n",
    "        \n",
    "        optimizer.step()\n",
    "        \n",
    "        #predictions\n",
    "        pred = output.detach().cpu().numpy()        \n",
    "        target = np.round(train_label.detach().cpu().numpy()) \n",
    "       \n",
    "        y_pred.extend(pred.tolist())\n",
    "        y_true.extend(target.tolist())\n",
    "                              \n",
    "    print(f'{i + 1}  Train loss: {history[-1]}')\n",
    "    print(\"RMSE on training\" , mean_squared_error(y_true,y_pred, squared=False))\n",
    "    print('---------------------------------------------------------------------------------------')\n",
    "    return history"
   ]
  },
  {
   "cell_type": "code",
   "execution_count": null,
   "metadata": {
    "execution": {
     "iopub.execute_input": "2023-01-18T07:55:37.717239Z",
     "iopub.status.busy": "2023-01-18T07:55:37.716622Z",
     "iopub.status.idle": "2023-01-18T07:55:37.732200Z",
     "shell.execute_reply": "2023-01-18T07:55:37.729967Z",
     "shell.execute_reply.started": "2023-01-18T07:55:37.717180Z"
    }
   },
   "outputs": [],
   "source": [
    "def test_model(model, device, test_loader):\n",
    "    #тестирование\n",
    "    prob = []\n",
    "    y_pred = []\n",
    "    y_true = []\n",
    "    model.eval()\n",
    "    \n",
    "    with torch.no_grad():\n",
    "        for x_batch, y_batch in tqdm(test_loader):\n",
    "\n",
    "            test_label = y_batch.to(device)\n",
    "            input_id = x_batch.squeeze(1).to(device)\n",
    "\n",
    "            output = model(input_id).squeeze(1)\n",
    "            #predictions\n",
    "            pred = np.round(output.detach().cpu().numpy())\n",
    "            target = np.round(test_label.detach().cpu().numpy()) \n",
    "            \n",
    "            #prob = np.hstack([prob, output.detach().cpu().numpy()])          \n",
    "            y_pred.extend(pred.tolist())\n",
    "            y_true.extend(target.tolist())\n",
    "\n",
    "    print(\"RMSE on test\" , mean_squared_error(y_true, y_pred, squared=False))\n",
    "    \n",
    "    print('___________________________________________________________________________________________')"
   ]
  },
  {
   "cell_type": "code",
   "execution_count": null,
   "metadata": {
    "execution": {
     "iopub.execute_input": "2023-01-18T07:55:37.734234Z",
     "iopub.status.busy": "2023-01-18T07:55:37.733853Z",
     "iopub.status.idle": "2023-01-18T07:55:37.938566Z",
     "shell.execute_reply": "2023-01-18T07:55:37.937591Z",
     "shell.execute_reply.started": "2023-01-18T07:55:37.734201Z"
    }
   },
   "outputs": [],
   "source": [
    "#тензоры для трейн\n",
    "labels = torch.tensor(y_train)\n",
    "input_ids = torch.tensor(X_train)\n",
    "input_ids.shape, labels.shape"
   ]
  },
  {
   "cell_type": "code",
   "execution_count": null,
   "metadata": {
    "execution": {
     "iopub.execute_input": "2023-01-18T07:55:37.940714Z",
     "iopub.status.busy": "2023-01-18T07:55:37.940272Z",
     "iopub.status.idle": "2023-01-18T07:55:37.970956Z",
     "shell.execute_reply": "2023-01-18T07:55:37.970052Z",
     "shell.execute_reply.started": "2023-01-18T07:55:37.940678Z"
    }
   },
   "outputs": [],
   "source": [
    "#тензоры для тест\n",
    "labels_test = torch.tensor(y_test)\n",
    "input_ids_test = torch.tensor(X_test)\n",
    "input_ids_test.shape, labels_test.shape"
   ]
  },
  {
   "cell_type": "code",
   "execution_count": null,
   "metadata": {
    "execution": {
     "iopub.execute_input": "2023-01-18T07:55:37.974409Z",
     "iopub.status.busy": "2023-01-18T07:55:37.974116Z",
     "iopub.status.idle": "2023-01-18T07:55:37.982430Z",
     "shell.execute_reply": "2023-01-18T07:55:37.981344Z",
     "shell.execute_reply.started": "2023-01-18T07:55:37.974381Z"
    }
   },
   "outputs": [],
   "source": [
    "#создание дата лоадеров\n",
    "train_dataset = TensorDataset(input_ids, labels)\n",
    "test_dataset = TensorDataset(input_ids_test, labels_test)\n",
    "train_dataloader = DataLoader(train_dataset, batch_size=100, drop_last=True) \n",
    "test_dataloader = DataLoader(test_dataset, batch_size=100, drop_last=True) "
   ]
  },
  {
   "cell_type": "code",
   "execution_count": null,
   "metadata": {
    "execution": {
     "iopub.execute_input": "2023-01-18T07:55:37.986457Z",
     "iopub.status.busy": "2023-01-18T07:55:37.986156Z",
     "iopub.status.idle": "2023-01-18T07:55:37.998575Z",
     "shell.execute_reply": "2023-01-18T07:55:37.997531Z",
     "shell.execute_reply.started": "2023-01-18T07:55:37.986430Z"
    }
   },
   "outputs": [],
   "source": [
    "model = Regression_Net(X_train.shape[1], 150, 1)\n",
    "model.to(device)\n",
    "criterion = nn.MSELoss() \n",
    "optimizer = torch.optim.AdamW(model.parameters(), lr=0.008)\n",
    "epoch = 50"
   ]
  },
  {
   "cell_type": "code",
   "execution_count": null,
   "metadata": {
    "execution": {
     "iopub.execute_input": "2023-01-18T07:55:38.001971Z",
     "iopub.status.busy": "2023-01-18T07:55:38.001599Z",
     "iopub.status.idle": "2023-01-18T07:56:55.106890Z",
     "shell.execute_reply": "2023-01-18T07:56:55.105773Z",
     "shell.execute_reply.started": "2023-01-18T07:55:38.001938Z"
    },
    "scrolled": true
   },
   "outputs": [],
   "source": [
    "history_train = []\n",
    "history_test = []\n",
    "for i in range(epoch):\n",
    "    history_train.extend(train_model(model, device, train_dataloader, criterion, optimizer))\n",
    "    test_model(model, device, test_dataloader)"
   ]
  },
  {
   "cell_type": "code",
   "execution_count": null,
   "metadata": {
    "execution": {
     "iopub.execute_input": "2023-01-18T07:56:55.109008Z",
     "iopub.status.busy": "2023-01-18T07:56:55.108593Z",
     "iopub.status.idle": "2023-01-18T07:56:55.411693Z",
     "shell.execute_reply": "2023-01-18T07:56:55.410778Z",
     "shell.execute_reply.started": "2023-01-18T07:56:55.108970Z"
    }
   },
   "outputs": [],
   "source": [
    "plt.figure(figsize=(10, 7))\n",
    "plt.plot(history_train)\n",
    "plt.title('Loss на каждой итерации батча')\n",
    "plt.ylabel('RSMELoss')\n",
    "plt.xlabel('batches')\n",
    "plt.show()"
   ]
  },
  {
   "cell_type": "markdown",
   "metadata": {},
   "source": [
    "**Вывод:**\n",
    "В ходе исследования была использована и хорошо себя покзала предобученная нейронная сеть \"BERT\" \"YituTech\", использование эмбендингов которых даже на простой модели LinearRegression показало приемлемый результат RSME 13416, что не много хуже результата нейронной сети написанной с использованием библиотеки PyTorch - 13241.\n",
    "Однако надо учесть  тот момент, что обучение некронки проходило не с оптимальными гипперпараметрами и всего на 50 эпохах."
   ]
  },
  {
   "cell_type": "code",
   "execution_count": null,
   "metadata": {},
   "outputs": [],
   "source": []
  }
 ],
 "metadata": {
  "kernelspec": {
   "display_name": "Python 3 (ipykernel)",
   "language": "python",
   "name": "python3"
  },
  "language_info": {
   "codemirror_mode": {
    "name": "ipython",
    "version": 3
   },
   "file_extension": ".py",
   "mimetype": "text/x-python",
   "name": "python",
   "nbconvert_exporter": "python",
   "pygments_lexer": "ipython3",
   "version": "3.8.10"
  }
 },
 "nbformat": 4,
 "nbformat_minor": 4
}
